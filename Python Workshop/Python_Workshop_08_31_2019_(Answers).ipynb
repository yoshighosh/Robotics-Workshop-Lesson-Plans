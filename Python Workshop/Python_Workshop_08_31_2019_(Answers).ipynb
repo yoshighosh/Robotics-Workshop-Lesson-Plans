{
  "nbformat": 4,
  "nbformat_minor": 0,
  "metadata": {
    "colab": {
      "name": "Python Workshop 08-31-2019 (Answers)",
      "version": "0.3.2",
      "provenance": [],
      "collapsed_sections": [],
      "include_colab_link": true
    },
    "kernelspec": {
      "name": "python3",
      "display_name": "Python 3"
    }
  },
  "cells": [
    {
      "cell_type": "markdown",
      "metadata": {
        "id": "view-in-github",
        "colab_type": "text"
      },
      "source": [
        "<a href=\"https://colab.research.google.com/github/yoshighosh/Robotics-Workshop-Lesson-Plans/blob/master/Python_Workshop_08_31_2019_(Answers).ipynb\" target=\"_parent\"><img src=\"https://colab.research.google.com/assets/colab-badge.svg\" alt=\"Open In Colab\"/></a>"
      ]
    },
    {
      "cell_type": "markdown",
      "metadata": {
        "id": "I5iiC7caqgGc",
        "colab_type": "text"
      },
      "source": [
        "# Python Workshop\n",
        "\n",
        "In this workshop, we will guide you through the basics of programming, utilizing Python. We will be working with Google Collabatory for running our code. \n",
        "\n",
        "## Agenda\n",
        "> **Basic Intro to coding**\n",
        "- Printing\n",
        "- Variables\n",
        "- Strings\n",
        "- User Input\n",
        "- Lists\n",
        "\n",
        "> **Chatbox**\n",
        "- Simple conversational program\n",
        "\n",
        "> **Functional Programs**\n",
        "- Numeric Operations\n",
        "- If Statements and Booleans\n",
        "- For/While Loops\n",
        "- Functions\n",
        "\n",
        "> **Pyg Latin Translator**\n",
        "- intermediate level program that translates User Input into Pyg Latin\n",
        "\n",
        "> **Prime Number Generator**\n",
        "- Final Project which generates prime numbers from 1-1000"
      ]
    },
    {
      "cell_type": "markdown",
      "metadata": {
        "id": "3H1c6HI6W8QG",
        "colab_type": "text"
      },
      "source": [
        "# Basic Intro to coding\n",
        "Here we will be learning how to use print statements, set variables, perform string operations, and get user input. \n",
        "\n",
        "## Printing\n",
        "To print a message on the output screen, we use **``` print(\"Your message\")```**. You can print any message, as long as it is in \" \" or ' '. To run a cell press Ctrl + Enter or press the play button on the left. Now edit the next cell to display your own message, and run the cell to see the output."
      ]
    },
    {
      "cell_type": "code",
      "metadata": {
        "id": "_1q2CRIgu9hk",
        "colab_type": "code",
        "colab": {}
      },
      "source": [
        "# Printing\n",
        "\n",
        "print(\"Hello World!!!\")"
      ],
      "execution_count": 0,
      "outputs": []
    },
    {
      "cell_type": "markdown",
      "metadata": {
        "id": "vNh4yBCeZWI1",
        "colab_type": "text"
      },
      "source": [
        "Great Job!! Let's move on to variables...\n",
        "\n",
        "## Variables\n",
        "A variable is something that contains information. Variables can contain 3 main types of data:\n",
        "- Integers/Floats (numbers)\n",
        "- Strings (letters or phrases)\n",
        "- Booleans (True or False)\n",
        "\n",
        "Variables are useful when you need to use an integer/string/boolean in multiple places, or you need to store a dynamic value (dynamic -> changing value). To set a variable you would type **```variable_name = value```**. To access the information stored in a variable, you call the variable name. Try editing the values in the variables to see how they change, remember if you type a string, place quotaions around the phrase."
      ]
    },
    {
      "cell_type": "code",
      "metadata": {
        "id": "fE6Pol-6vL3z",
        "colab_type": "code",
        "colab": {}
      },
      "source": [
        "# Variables\n",
        "\n",
        "first_integer = 14\n",
        "first_string = \"This is a sample string\"\n",
        "first_boolean = True\n",
        "\n",
        "print(first_integer)\n",
        "print(first_string)\n",
        "print(first_boolean)\n"
      ],
      "execution_count": 0,
      "outputs": []
    },
    {
      "cell_type": "markdown",
      "metadata": {
        "id": "9An-U9Cwbn4T",
        "colab_type": "text"
      },
      "source": [
        "## Strings\n",
        "If you tried to print multiple variables in one line, you may have received error messages. Well, that is because in Python, there are special ways to print multiple things together. Here are three examples of printing multiple items:\n",
        "- **```print(\"Some string \" + \"Some other string\")```** This only allows two strings to be concatenated (put together), and it does not place a space in between the strings.\n",
        "- **```print(\"Some string {}\".format(variable))```** This replaces the {} with whatever is stored in the variable, it works with all datatypes.\n",
        "- **```print(\"Some string\", variable)```** This concatenates the two pieces together, while adding a space in between the objects. The string and variable are interchangeable, this is one of the most versatile ways of adding strings.\n",
        "\n",
        "Try adding your own strings and variables together to see what happens."
      ]
    },
    {
      "cell_type": "code",
      "metadata": {
        "id": "7X575w2SvMCH",
        "colab_type": "code",
        "colab": {}
      },
      "source": [
        "# Strings\n",
        "\n",
        "print(\"This is the first string.\" + \" This is the second string\")\n",
        "print(\"This is our first variable {}\".format(first_integer))\n",
        "print(\"This is our first string.\", first_string)"
      ],
      "execution_count": 0,
      "outputs": []
    },
    {
      "cell_type": "markdown",
      "metadata": {
        "id": "gyQlMM5Lgl3j",
        "colab_type": "text"
      },
      "source": [
        "## User Input\n",
        "A key part to most compouter programs is the ability to interact with a user. By using **```variable = input(\"prompt\")```**, we are able to prompt the user for text and store their response in a variable. One thing to be careful of, all input we receive is in the form of a string, so we need to convert it into an integer/float if that is what we are trying to use. To convert you can type **```int(variable)```** or **```float(variable)```**. Try prompting the user to select a number, then print out that number."
      ]
    },
    {
      "cell_type": "code",
      "metadata": {
        "id": "JIyaza0xvMSe",
        "colab_type": "code",
        "colab": {}
      },
      "source": [
        "# User input\n",
        "\n",
        "user_input = input(\"Please enter any number from 1-10: \")\n",
        "print(\"Your number was\", user_input)"
      ],
      "execution_count": 0,
      "outputs": []
    },
    {
      "cell_type": "markdown",
      "metadata": {
        "id": "xVvMcXHDiI2t",
        "colab_type": "text"
      },
      "source": [
        "## Lists\n",
        "Lists are a special type of variable. They are used to store multiple values, and these values do not need to be the same datatype. To create a list, you type **```variable=[values, values, values]```**. Lists can be any size. An important thing to remember is that items in a list start counting at 0, so to access the \"string\" in the example below, you type **```list[0]```**. The number in the [] is called the index, and you can call on multiple values by typing in **```list[1:4]```**, which would give 0, 7, \"heyyo\", and 3. Try printing \"heyyo\" by accessing the value in the list below. "
      ]
    },
    {
      "cell_type": "code",
      "metadata": {
        "id": "L1hr_UwgiAkV",
        "colab_type": "code",
        "colab": {}
      },
      "source": [
        "# Lists\n",
        "\n",
        "list = [\"string\", 0, 7, \"heyyo\", 3, \"programming\"]\n"
      ],
      "execution_count": 0,
      "outputs": []
    },
    {
      "cell_type": "markdown",
      "metadata": {
        "id": "HM_ufIGwj607",
        "colab_type": "text"
      },
      "source": [
        "You can also create lists of integers by typing **```list = [i for i in range(1, 100)]```**. This list would contain a list of integers from 1 to 99. When using **```range()```**, it returns all values including the starting point, but not including the ending point."
      ]
    },
    {
      "cell_type": "markdown",
      "metadata": {
        "id": "CDfHKgHeoicE",
        "colab_type": "text"
      },
      "source": [
        "# ChatBox\n",
        "Here we will utilize the various things we have learned to create a mini chatbox program. \n",
        "\n",
        "## Instructions\n",
        "Create a program that prompts the user for their name, how they are feeling, and their birth year. You will store all of these in variables so you can receive the following output.\n",
        "\n",
        "> Hello! What is your name?\n",
        "- User enter name\n",
        "\n",
        "> Glad to meet you, [name]! How was your day?\n",
        "- User enters mood\n",
        "\n",
        "> I’m glad to hear you’re doing [mood]! Now, let me try to guess your birthday. What year were you born?\n",
        "- User enters year\n",
        "\n",
        "> [Name], you must be [age] years old. \n",
        "\n",
        "For the age, use the subtraction symbol to subtract their birth year from the current year. \n",
        "(Hint: don't forget about converting strings into integers)"
      ]
    },
    {
      "cell_type": "code",
      "metadata": {
        "id": "0lY4FckgvMYe",
        "colab_type": "code",
        "colab": {}
      },
      "source": [
        "# ChatBox\n",
        "\n",
        "name = input(\"Hello!! What is your name? \")\n",
        "print(\"Glad to meet you {}!\".format(name))\n",
        "mood = input(\"How was your day? \")\n",
        "print(\"I'm glad to hear it's been {}\".format(mood))\n",
        "year = input(\"Now, let me try to guess how old you are, what year were you born? \")\n",
        "age = 2019 - int(year)\n",
        "print(\"{}, you are {} years old!!\".format(name, age))\n"
      ],
      "execution_count": 0,
      "outputs": []
    },
    {
      "cell_type": "markdown",
      "metadata": {
        "id": "bTejr-tFzLOM",
        "colab_type": "text"
      },
      "source": [
        "# Functional Programs\n",
        "Now that we have got the basics down, let's move onto functional programming. Functions are specfic \"operations\" that perform certain tasks. You can write your own function to print out numbers, generate text, or verify the validity of something. We have already been using many of Python's built in functions such as the **```print(), range(), and int()```**. Before we start writing our own functions, let's review numerical operations.\n",
        "\n",
        "## Numerical Operations\n",
        "There are 6 major numerical operations. \n",
        "- Addition **(+)** - *adds the numbers together*\n",
        "- Subtraction **(-)** - *subtracts the first value from the second*\n",
        "- Multiplication **(*)** - *multiplies the two numbers*\n",
        "- Divsion **(/)** - *divides the first number by the second*\n",
        "- Power **(** * * **)** - *raises the first number to the power of the second number*\n",
        "- Modulo **(%)** - *finds the remainder of the first number divided by the second*\n",
        "\n",
        "Try determining the values of each print statement before printing, then change the variables to see how it changes."
      ]
    },
    {
      "cell_type": "code",
      "metadata": {
        "id": "FUYx-Y2SvMg4",
        "colab_type": "code",
        "colab": {}
      },
      "source": [
        "# Numeric Operations\n",
        "\n",
        "a = 30\n",
        "b = 60\n",
        "c = 20\n",
        "d = 8\n",
        "e = 2\n",
        "\n",
        "print(a+d)\n",
        "print(a-c)\n",
        "print(b/a)\n",
        "print(c*d)\n",
        "print(d**e)\n",
        "print(20%8)"
      ],
      "execution_count": 0,
      "outputs": []
    },
    {
      "cell_type": "markdown",
      "metadata": {
        "id": "a3m3NPY_2Eox",
        "colab_type": "text"
      },
      "source": [
        "## If Statements\n",
        "Previously, we mentioned booleans, which are datatypes that return True or False. Booleans are used with conditional statements, like IF Statements. IF statements lets you choose specifically when to run the code. To write an IF Statement, you type **```if (some conditional):```**. This translates to *If true, perform task*. This runs anything in the loop, only if the conditional is True. To write things into the loops, we indent the block of code in the loop by one indent, so Python knows that this is what to run if the conditional is true. With IF Statements, we can write ELIF or ELSE Staements. ELIF, **```elif (some conditional):```**, goes after an IF Statement, and it means *else if this is true, perform task*, while ELSE, **```else:```**, goes at the very end to say *else, perform task*. It is important to note, you do not need to use ELIF or ELSE when using IF, but you cannot use them without using IF first. \n",
        "\n",
        "Write a simple program that takes user input, and checks if it is a mutiple of 3 or 5, then say whether it is."
      ]
    },
    {
      "cell_type": "code",
      "metadata": {
        "id": "Jvph2N7nRfxF",
        "colab_type": "code",
        "colab": {}
      },
      "source": [
        "# If Statements Conditionals\n",
        "\n",
        "number = input(\"Enter a number: \")\n",
        "number = int(number)\n",
        "\n",
        "if number%3 == 0:\n",
        "  print(\"{} is a multiple of 3\".format(number))\n",
        "elif number%5 == 0:\n",
        "  print(\"{} is a multiple of 5\".format(number))\n",
        "else:\n",
        "  print(\"{} is not a multiple of 3 or 5\".format(number))\n",
        "  "
      ],
      "execution_count": 0,
      "outputs": []
    },
    {
      "cell_type": "markdown",
      "metadata": {
        "id": "fTm3Dfb_4rTV",
        "colab_type": "text"
      },
      "source": [
        "## For and While loops\n",
        "For and While loops are loops that run continuously as long as their conditional is true. For Loops are used more commonly for indexing, and while loops are used to run other tasks that require repetition. Here are examples of using For and While loops to print out all numbers 1-21"
      ]
    },
    {
      "cell_type": "code",
      "metadata": {
        "id": "peQnkN2VvMeY",
        "colab_type": "code",
        "colab": {}
      },
      "source": [
        "# For Loops\n",
        "\n",
        "for i in range(1, 21):\n",
        "  print(i)"
      ],
      "execution_count": 0,
      "outputs": []
    },
    {
      "cell_type": "code",
      "metadata": {
        "id": "yu7OM9-S5SBk",
        "colab_type": "code",
        "colab": {}
      },
      "source": [
        "# While Loops\n",
        "\n",
        "count = 1\n",
        "\n",
        "while count <= 20:\n",
        "  print(count)\n",
        "  count += 1"
      ],
      "execution_count": 0,
      "outputs": []
    },
    {
      "cell_type": "markdown",
      "metadata": {
        "id": "JQ_j278N6PVO",
        "colab_type": "text"
      },
      "source": [
        "## Functions\n",
        "Earlier we talked about functions, now we will create our own. To create a function you type **```def function_name(params):```**. Params or parameters are input we get when we call a function to use to perform our task. Sometimes, functions don't need parameters, in which cases you leave the () empty. Writing the code in the function works similarly to loops, you indent the code you want in the function. To call a function, outside of the function, you type **```function_name(params)```**. \n",
        "\n",
        "Let's write a function that receives a lower and upper bound, and prints out all the multiples of 2 within that range."
      ]
    },
    {
      "cell_type": "code",
      "metadata": {
        "id": "PVIJBkqrvMkZ",
        "colab_type": "code",
        "colab": {}
      },
      "source": [
        "# Functions\n",
        "\n",
        "def multiples2(min, max):\n",
        "  for num in range(min, max+1):\n",
        "    if num%2 == 0:\n",
        "      print(num)\n",
        "\n",
        "min = int(input(\"Enter your lower bound: \"))   \n",
        "max = int(input(\"Enter your upper bound: \"))\n",
        "      \n",
        "multiples2(min, max)\n"
      ],
      "execution_count": 0,
      "outputs": []
    },
    {
      "cell_type": "markdown",
      "metadata": {
        "id": "zlYX-dWA701a",
        "colab_type": "text"
      },
      "source": [
        "# Pyg Latin Translator\n",
        "Pyg Latin is a very easy language to translate. You take the first letter, add it to the end, and add \"ay\" to the end as well. For example, \"bonjour\" translate to \"onjourbay\". Try creating a function that takes in input, and prints the Pyg Latin word. (Hint: letters in strings can be accessed just like lists)"
      ]
    },
    {
      "cell_type": "code",
      "metadata": {
        "id": "OefLae2uvMbz",
        "colab_type": "code",
        "colab": {}
      },
      "source": [
        "# Pyg Latin Translator\n",
        "\n",
        "def PygLatin():\n",
        "  word = input(\"Enter a word: \")\n",
        "  first_letter = word[0]\n",
        "  word = word[1:]\n",
        "  word = word + first_letter + \"ay\"\n",
        "  print(word)\n",
        "\n",
        "PygLatin()"
      ],
      "execution_count": 0,
      "outputs": []
    },
    {
      "cell_type": "markdown",
      "metadata": {
        "id": "KVkrUHvO9JsS",
        "colab_type": "text"
      },
      "source": [
        "# Prime Number Generator\n",
        "Prime numbers are numbers that have no factors other than the number itself, and 1. There are many ways to find prime numbers, but today we will be focusing on the Sieve of Eratosthenes. In short, to find the prime numbers, it finds all the numbers that are not prime, and deletes them from the list. (link to wikipedia page for Sieve of Eratosthenes http://en.wikipedia.org/wiki/Sieve_of_Eratosthenes.)\n",
        "\n",
        "![alt text](https://media3.giphy.com/media/a1DcwyGtpLG9O/200.webp?cid=790b761167886851669c85e666b4fd421a5d36078b69970b&rid=200.webp) \n",
        "\n",
        "## Instructions\n",
        "First ask the user for the upper bounds. Create a list of booleans the size of the range from 0 to the upper bound, and set them all equal to True. From there, find a way to calculate all non prime numbers, and set their boolean equal to False. Once all non prime numbers have been marked False, print out all the prime numbers by printing the index value of True booleans, then adding one. If you need help, we will be going over it together as a class.\n"
      ]
    },
    {
      "cell_type": "code",
      "metadata": {
        "id": "7Uox5toeqXfo",
        "colab_type": "code",
        "outputId": "7f09c7df-ffad-4488-ea81-da10dd242e55",
        "colab": {
          "base_uri": "https://localhost:8080/",
          "height": 295
        }
      },
      "source": [
        "# Prime number generator\n",
        "\n",
        "max = int(input(\"Enter the upper bound: \"))  # receives upper bound\n",
        "primes = [True]*(max+1)  # creates a Boolean list set to True\n",
        "base = 2  # first base\n",
        "while True:\n",
        "    mult = base*2  # finds first multiple of the base\n",
        "    if mult > max:  # exits while loop if all prime numbers are found\n",
        "        break\n",
        "    if primes[base]:  # skip marking multiples if the base is not prime\n",
        "        while mult <= max:  # finds all the numbers that are multiples of the base\n",
        "            primes[mult] = False\n",
        "            mult += base\n",
        "    base += 1  # switches to next base\n",
        "    \n",
        "for i in range(2, max+1):  # prints prime numbers\n",
        "    if primes[i]:\n",
        "        print(i)"
      ],
      "execution_count": 0,
      "outputs": [
        {
          "output_type": "stream",
          "text": [
            "Enter the upper bound: 50\n",
            "2\n",
            "3\n",
            "5\n",
            "7\n",
            "11\n",
            "13\n",
            "17\n",
            "19\n",
            "23\n",
            "29\n",
            "31\n",
            "37\n",
            "41\n",
            "43\n",
            "47\n"
          ],
          "name": "stdout"
        }
      ]
    }
  ]
}
